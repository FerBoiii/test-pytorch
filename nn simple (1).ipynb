{
 "cells": [
  {
   "cell_type": "code",
   "execution_count": 4,
   "id": "cfda0024",
   "metadata": {},
   "outputs": [],
   "source": [
    "import torch\n",
    "import torch.nn as nn"
   ]
  },
  {
   "cell_type": "code",
   "execution_count": 5,
   "id": "f055a7bc",
   "metadata": {},
   "outputs": [],
   "source": [
    "# Defining input size, hidden layer size, output size and batch size respectively\n",
    "# Definimos el tamaño de las capas input, ocultas y output, además del tamaño del lote\n",
    "n_in, n_h, n_out, batch_size = 10, 5, 1, 10"
   ]
  },
  {
   "cell_type": "code",
   "execution_count": 6,
   "id": "189513a3",
   "metadata": {},
   "outputs": [],
   "source": [
    "# Create dummy input and target tensors (data)\n",
    "# Creamos un input cualquiera y tensores objetivos (data)\n",
    "x = torch.randn(batch_size, n_in)\n",
    "y = torch.tensor([[1.0], [0.0], [0.0], [1.0], [1.0], [1.0], [0.0], [0.0], [1.0], [1.0]])"
   ]
  },
  {
   "cell_type": "code",
   "execution_count": 7,
   "id": "b436343e",
   "metadata": {},
   "outputs": [],
   "source": [
    "# Create a model\n",
    "# Creamos un modelo\n",
    "model = nn.Sequential(nn.Linear(n_in, n_h),\n",
    "nn.ReLU(),\n",
    "nn.Linear(n_h, n_out),\n",
    "nn.Sigmoid())"
   ]
  },
  {
   "cell_type": "code",
   "execution_count": 9,
   "id": "5584123d",
   "metadata": {},
   "outputs": [],
   "source": [
    "#construct the loss function\n",
    "#construimos la función de perdida\n",
    "criterion = torch.nn.MSELoss()\n",
    "# Construct the optimizer (Stochastic Gradient Descent in this case)\n",
    "# Construimos el optimizador (SGD en este caso)\n",
    "optimizer = torch.optim.SGD(model.parameters(), lr=0.01)"
   ]
  },
  {
   "cell_type": "code",
   "execution_count": 11,
   "id": "067326a4",
   "metadata": {},
   "outputs": [
    {
     "name": "stdout",
     "output_type": "stream",
     "text": [
      "epoch:  0  loss:  0.23153801262378693\n",
      "epoch:  1  loss:  0.23148426413536072\n",
      "epoch:  2  loss:  0.23143057525157928\n",
      "epoch:  3  loss:  0.23137691617012024\n",
      "epoch:  4  loss:  0.2313232421875\n",
      "epoch:  5  loss:  0.23126962780952454\n",
      "epoch:  6  loss:  0.23121602833271027\n",
      "epoch:  7  loss:  0.231162428855896\n",
      "epoch:  8  loss:  0.2311088740825653\n",
      "epoch:  9  loss:  0.2310553342103958\n",
      "epoch:  10  loss:  0.2310018539428711\n",
      "epoch:  11  loss:  0.23094835877418518\n",
      "epoch:  12  loss:  0.23089487850666046\n",
      "epoch:  13  loss:  0.23084142804145813\n",
      "epoch:  14  loss:  0.230787992477417\n",
      "epoch:  15  loss:  0.23073461651802063\n",
      "epoch:  16  loss:  0.23068122565746307\n",
      "epoch:  17  loss:  0.2306278645992279\n",
      "epoch:  18  loss:  0.23057451844215393\n",
      "epoch:  19  loss:  0.23052117228507996\n",
      "epoch:  20  loss:  0.23046791553497314\n",
      "epoch:  21  loss:  0.23041459918022156\n",
      "epoch:  22  loss:  0.23036137223243713\n",
      "epoch:  23  loss:  0.23030810058116913\n",
      "epoch:  24  loss:  0.2302548885345459\n",
      "epoch:  25  loss:  0.23020167648792267\n",
      "epoch:  26  loss:  0.23014846444129944\n",
      "epoch:  27  loss:  0.2300952970981598\n",
      "epoch:  28  loss:  0.23004217445850372\n",
      "epoch:  29  loss:  0.22998900711536407\n",
      "epoch:  30  loss:  0.229935884475708\n",
      "epoch:  31  loss:  0.22988279163837433\n",
      "epoch:  32  loss:  0.22982966899871826\n",
      "epoch:  33  loss:  0.22977662086486816\n",
      "epoch:  34  loss:  0.22972352802753448\n",
      "epoch:  35  loss:  0.22967049479484558\n",
      "epoch:  36  loss:  0.22961744666099548\n",
      "epoch:  37  loss:  0.22956442832946777\n",
      "epoch:  38  loss:  0.22951142489910126\n",
      "epoch:  39  loss:  0.22945845127105713\n",
      "epoch:  40  loss:  0.2294054478406906\n",
      "epoch:  41  loss:  0.22935251891613007\n",
      "epoch:  42  loss:  0.22929951548576355\n",
      "epoch:  43  loss:  0.229246586561203\n",
      "epoch:  44  loss:  0.22919368743896484\n",
      "epoch:  45  loss:  0.2291407585144043\n",
      "epoch:  46  loss:  0.22908785939216614\n",
      "epoch:  47  loss:  0.22903497517108917\n",
      "epoch:  48  loss:  0.22898204624652863\n",
      "epoch:  49  loss:  0.22892920672893524\n"
     ]
    }
   ],
   "source": [
    "# Gradient Descent\n",
    "# descenso del gradiente\n",
    "for epoch in range(50):\n",
    " # Forward pass: Compute predicted y by passing x to the model\n",
    " \n",
    " y_pred = model(x)\n",
    " # Compute and print loss\n",
    " loss = criterion(y_pred, y)\n",
    " print('epoch: ', epoch,' loss: ', loss.item())\n",
    " # Zero gradients, perform a backward pass, and update the weights.\n",
    " optimizer.zero_grad()\n",
    " # perform a backward pass (backpropagation)\n",
    " loss.backward()\n",
    " # Update the parameters\n",
    " optimizer.step()"
   ]
  },
  {
   "cell_type": "code",
   "execution_count": null,
   "id": "736c0ad5",
   "metadata": {},
   "outputs": [],
   "source": []
  }
 ],
 "metadata": {
  "kernelspec": {
   "display_name": "acus220",
   "language": "python",
   "name": "acus220"
  },
  "language_info": {
   "codemirror_mode": {
    "name": "ipython",
    "version": 3
   },
   "file_extension": ".py",
   "mimetype": "text/x-python",
   "name": "python",
   "nbconvert_exporter": "python",
   "pygments_lexer": "ipython3",
   "version": "3.9.4"
  }
 },
 "nbformat": 4,
 "nbformat_minor": 5
}
